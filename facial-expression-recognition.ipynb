{
 "cells": [
  {
   "cell_type": "code",
   "execution_count": 5,
   "metadata": {},
   "outputs": [],
   "source": [
    "import pandas as pd\n",
    "import numpy as np\n",
    "\n",
    "data_dir = r\"C:\\Users\\hp\\Desktop\\facial-expression-recognition\"\n",
    "\n",
    "df=pd.read_csv(data_dir+\"/train.csv\")"
   ]
  },
  {
   "cell_type": "code",
   "execution_count": 6,
   "metadata": {},
   "outputs": [],
   "source": [
    "\n",
    "emotion1 = ('anger', 'disgust', 'fear', 'happiness', 'sadness', 'surprise', 'neutral')\n"
   ]
  },
  {
   "cell_type": "code",
   "execution_count": 7,
   "metadata": {},
   "outputs": [],
   "source": [
    "exclude_classes1 = [0,1, 2,4, 5,6]\n",
    "\n",
    "# Delete rows based on the condition\n",
    "df_happy = df[~df['emotion'].isin(exclude_classes1)]"
   ]
  },
  {
   "cell_type": "code",
   "execution_count": 8,
   "metadata": {},
   "outputs": [],
   "source": [
    "exclude_classes2 = [0,1, 2,3, 5,6]\n",
    "\n",
    "# Delete rows based on the condition\n",
    "df_sad =  df[~df['emotion'].isin(exclude_classes2)]"
   ]
  },
  {
   "cell_type": "code",
   "execution_count": 9,
   "metadata": {},
   "outputs": [],
   "source": [
    "df1_subset = df_sad.head(40)\n",
    "df2_subset = df_happy.head(40)\n",
    "\n",
    "concatenated_df = pd.concat([df1_subset, df2_subset])\n",
    "\n",
    "concatenated_df.reset_index(drop=True, inplace=True)\n"
   ]
  },
  {
   "cell_type": "code",
   "execution_count": 10,
   "metadata": {},
   "outputs": [],
   "source": [
    "emotion = ('happiness', 'sadness')\n"
   ]
  },
  {
   "cell_type": "code",
   "execution_count": 11,
   "metadata": {},
   "outputs": [
    {
     "data": {
      "text/plain": [
       "(80, 2304)"
      ]
     },
     "execution_count": 11,
     "metadata": {},
     "output_type": "execute_result"
    }
   ],
   "source": [
    "X = concatenated_df['pixels'].apply(lambda x: np.array(x.split()).reshape(48*48,).astype('float32'))\n",
    "X = np.stack(X, axis=0)\n",
    "X.shape"
   ]
  },
  {
   "cell_type": "code",
   "execution_count": 12,
   "metadata": {},
   "outputs": [
    {
     "data": {
      "text/plain": [
       "(80,)"
      ]
     },
     "execution_count": 12,
     "metadata": {},
     "output_type": "execute_result"
    }
   ],
   "source": [
    "y = concatenated_df['emotion']\n",
    "y = np.stack(y, axis=0)\n",
    "\n",
    "y.shape"
   ]
  },
  {
   "cell_type": "code",
   "execution_count": 13,
   "metadata": {},
   "outputs": [
    {
     "name": "stdout",
     "output_type": "stream",
     "text": [
      "[1 1 1 1 1 1 1 1 1 1 1 1 1 1 1 1 1 1 1 1 1 1 1 1 1 1 1 1 1 1 1 1 1 1 1 1 1\n",
      " 1 1 1 0 0 0 0 0 0 0 0 0 0 0 0 0 0 0 0 0 0 0 0 0 0 0 0 0 0 0 0 0 0 0 0 0 0\n",
      " 0 0 0 0 0 0]\n"
     ]
    }
   ],
   "source": [
    "for i in range(len(y)):\n",
    "    if y[i] == 3:\n",
    "        y[i] = 0\n",
    "        \n",
    "    if y[i] == 4:\n",
    "        y[i] = 1\n",
    "\n",
    "\n",
    "print(y)"
   ]
  },
  {
   "cell_type": "code",
   "execution_count": 14,
   "metadata": {},
   "outputs": [],
   "source": [
    "X1 = X/255."
   ]
  },
  {
   "cell_type": "code",
   "execution_count": 15,
   "metadata": {},
   "outputs": [],
   "source": [
    "from sklearn.model_selection import train_test_split\n",
    "\n",
    "X_train, X_test, y_train, y_test = train_test_split(X1, y, test_size=0.20, random_state=42)"
   ]
  },
  {
   "cell_type": "code",
   "execution_count": 16,
   "metadata": {},
   "outputs": [],
   "source": [
    "import random as rd\n",
    "import numpy as np\n",
    "\n",
    "class FCM:\n",
    "    def __init__(self,X,c,m,m_iter):\n",
    "        self.m = m\n",
    "        self.c = c\n",
    "        self.p = X.shape[1]\n",
    "        self.m_iter = m_iter\n",
    "        \n",
    "        self.V = np.array([ [ rd.uniform(0,1) for j in range(self.p)] for i in range(self.c)])\n",
    "        self.Etqt = []\n",
    "\n",
    "    def calculerU(self, X):\n",
    "        alpha = -1./(self.m-1.)\n",
    "        term1 = [ [ pow(sum(np.square(X[k]-self.V[i])), alpha) for k in range(X.shape[0]) ] for i in range(self.c)]\n",
    "        term2 = [ sum([pow(sum(np.square(X[k]-self.V[i])), alpha) for i in range(self.c)]) for k in range(X.shape[0])]\n",
    "        self.U = [ [ term1[i][k]/term2[k] for k in range(X.shape[0])] for i in range(self.c)]\n",
    "        \n",
    "    def calculerV(self, X):\n",
    "        card = [ sum([pow(self.U[i][k], self.m) for k in range(X.shape[0])]) for i in range(self.c)]\n",
    "        term = [ [ sum([ pow(self.U[i][k], self.m)*X[k][j] for k in range(X.shape[0])]) for j in range(self.p)] for i in range(self.c)]\n",
    "        self.V = [ [ term[i][j]/card[i] for j in range(self.p)] for i in range(self.c)]\n",
    "    \n",
    "    def classe(self,vect): \n",
    "        term1 = [ pow(sum(np.square(vect-self.V[i])), -1./(self.m-1)) for i in range(self.c)]\n",
    "        term2 = sum([ pow(sum(np.square(vect-self.V[i])), -1./(self.m-1)) for i in range(self.c)])\n",
    "        u = [term1[i]/term2 for i in range(self.c)]\n",
    "        return np.argmax(u)\n",
    "    \n",
    "\n",
    "    def accuracy(self,X,Y):\n",
    "        T = 0\n",
    "        for i in range(len(X)):\n",
    "            if self.classe(X[i]) == Y[i]:\n",
    "                T+=1\n",
    "        return T/len(X)\n",
    "    \n",
    "    def entrainer(self, X,Y): \n",
    "        t = 0\n",
    "        while(t<self.m_iter):\n",
    "            self.calculerU(X)\n",
    "            self.calculerV(X)\n",
    "            t = t + 1\n",
    "\n"
   ]
  },
  {
   "cell_type": "code",
   "execution_count": 17,
   "metadata": {},
   "outputs": [
    {
     "name": "stdout",
     "output_type": "stream",
     "text": [
      "(2, 2304)\n"
     ]
    }
   ],
   "source": [
    "fcm = FCM(X_train,2,2,100)\n",
    "print(fcm.V.shape)\n",
    "\n",
    "fcm.entrainer(np.array(X_train),y_train)\n"
   ]
  }
 ],
 "metadata": {
  "kernelspec": {
   "display_name": "Python 3 (ipykernel)",
   "language": "python",
   "name": "python3"
  },
  "language_info": {
   "codemirror_mode": {
    "name": "ipython",
    "version": 3
   },
   "file_extension": ".py",
   "mimetype": "text/x-python",
   "name": "python",
   "nbconvert_exporter": "python",
   "pygments_lexer": "ipython3",
   "version": "3.9.16"
  },
  "vscode": {
   "interpreter": {
    "hash": "26de051ba29f2982a8de78e945f0abaf191376122a1563185a90213a26c5da77"
   }
  }
 },
 "nbformat": 4,
 "nbformat_minor": 2
}
